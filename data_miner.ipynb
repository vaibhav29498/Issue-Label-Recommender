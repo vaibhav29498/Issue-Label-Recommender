{
 "cells": [
  {
   "cell_type": "code",
   "execution_count": 33,
   "metadata": {
    "collapsed": true
   },
   "outputs": [],
   "source": [
    "from bs4 import BeautifulSoup\n",
    "from urllib.request import urlopen"
   ]
  },
  {
   "cell_type": "code",
   "execution_count": null,
   "metadata": {
    "collapsed": true
   },
   "outputs": [],
   "source": []
  },
  {
   "cell_type": "code",
   "execution_count": 9,
   "metadata": {},
   "outputs": [],
   "source": [
    "url = 'https://github.com/twbs/bootstrap/issues/24967'\n",
    "content = urlopen(url).read()\n",
    "soup = BeautifulSoup(content, 'html.parser')"
   ]
  },
  {
   "cell_type": "code",
   "execution_count": 12,
   "metadata": {},
   "outputs": [
    {
     "name": "stdout",
     "output_type": "stream",
     "text": [
      "form-check-inline doesn't remove margin-left when going into new line\n"
     ]
    }
   ],
   "source": [
    "title = soup.title.string\n",
    "title = title[0 : title.find(' · Issue #')]\n",
    "print(title)"
   ]
  },
  {
   "cell_type": "code",
   "execution_count": 32,
   "metadata": {},
   "outputs": [
    {
     "name": "stdout",
     "output_type": "stream",
     "text": [
      "\n",
      "I have multiple form-check-inline elements like:\n",
      "\n",
      "When scaling the resolution smaller, the inline element that goes into a new line still has the margin-left: .75rem, which makes it very ugly and hard to fix manually.\n",
      "I dont really want to media querry every element lol.\n",
      "Image that shows the issue:\n",
      "\n",
      "\n"
     ]
    }
   ],
   "source": [
    "description = soup.find('td', class_='comment-body')\n",
    "for c in description.find_all('code') : c.extract() \n",
    "print(description.text)"
   ]
  },
  {
   "cell_type": "code",
   "execution_count": null,
   "metadata": {
    "collapsed": true
   },
   "outputs": [],
   "source": []
  }
 ],
 "metadata": {
  "kernelspec": {
   "display_name": "Python 3",
   "language": "python",
   "name": "python3"
  },
  "language_info": {
   "codemirror_mode": {
    "name": "ipython",
    "version": 3
   },
   "file_extension": ".py",
   "mimetype": "text/x-python",
   "name": "python",
   "nbconvert_exporter": "python",
   "pygments_lexer": "ipython3",
   "version": "3.6.3"
  }
 },
 "nbformat": 4,
 "nbformat_minor": 2
}
