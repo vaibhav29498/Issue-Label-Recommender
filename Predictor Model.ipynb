{
 "cells": [
  {
   "cell_type": "code",
   "execution_count": 1,
   "metadata": {
    "collapsed": true
   },
   "outputs": [],
   "source": [
    "import json"
   ]
  },
  {
   "cell_type": "code",
   "execution_count": 2,
   "metadata": {},
   "outputs": [],
   "source": [
    "with open('suppLabels.json', 'r') as f:\n",
    "    classes = json.load(f)\n",
    "with open('descWords.json', 'r') as f:\n",
    "    desc = json.load(f)\n",
    "with open('titleWords.json', 'r') as f:\n",
    "    title = json.load(f)\n",
    "with open('labels.json', 'r') as f:\n",
    "    label = json.load(f)"
   ]
  },
  {
   "cell_type": "code",
   "execution_count": 5,
   "metadata": {},
   "outputs": [
    {
     "name": "stdout",
     "output_type": "stream",
     "text": [
      "js 2697 ('event', 189) ('tooltip', 904)\n",
      "examples 135 ('css', 9) ('nav', 22)\n",
      "css 5390 ('add', 286) ('form', 1293)\n",
      "docs 1221 ('button', 63) ('code', 195)\n",
      "accessibility 131 ('attribut', 9) ('user', 59)\n",
      "browser bug 176 ('button', 15) ('browser', 72)\n",
      "build 162 ('shrinkwrap', 11) ('build', 44)\n",
      "feature 1206 ('popov', 56) ('exampl', 271)\n"
     ]
    }
   ],
   "source": [
    "def f(t1):\n",
    "    return t1[1]\n",
    "\n",
    "n = len(title)\n",
    "c = len(classes)\n",
    "cn = []\n",
    "ct = []\n",
    "cd = []\n",
    "for x in classes:\n",
    "    xn = 0\n",
    "    xt = []\n",
    "    xd = []\n",
    "    for y in range(n):\n",
    "        if x in label[y]:\n",
    "            xn += 1\n",
    "            for z in title[y]:\n",
    "                xt.append(z)\n",
    "            for z in desc[y]:\n",
    "                xd.append(z)\n",
    "    ct.append(sorted([(y, xt.count(y)) for y in set(xt)], key=f, reverse=True))\n",
    "    cd.append(sorted([(y, xd.count(y)) for y in set(xd)], key=f, reverse=True))\n",
    "    print(x, xn, ct[-1][10], cd[-1][10])"
   ]
  },
  {
   "cell_type": "code",
   "execution_count": 7,
   "metadata": {},
   "outputs": [
    {
     "name": "stdout",
     "output_type": "stream",
     "text": [
      "modal js examples\n",
      "modal js css\n",
      "modal js docs\n",
      "modal js accessibility\n",
      "modal js browser bug\n",
      "modal js build\n",
      "modal js feature\n",
      "593 js examples\n",
      "593 js css\n",
      "593 js docs\n",
      "593 js accessibility\n",
      "593 js browser bug\n",
      "593 js build\n",
      "593 js feature\n",
      "exampl examples js\n",
      "exampl examples css\n",
      "exampl examples docs\n",
      "exampl examples accessibility\n",
      "exampl examples browser bug\n",
      "exampl examples build\n",
      "exampl examples feature\n",
      "85 examples js\n",
      "85 examples css\n",
      "85 examples docs\n",
      "85 examples accessibility\n",
      "85 examples browser bug\n",
      "85 examples build\n",
      "85 examples feature\n",
      "navbar css js\n",
      "navbar css examples\n",
      "navbar css docs\n",
      "navbar css accessibility\n",
      "navbar css browser bug\n",
      "navbar css build\n",
      "navbar css feature\n",
      "613 css js\n",
      "613 css examples\n",
      "613 css docs\n",
      "613 css accessibility\n",
      "613 css browser bug\n",
      "613 css build\n",
      "613 css feature\n",
      "doc docs js\n",
      "doc docs examples\n",
      "doc docs css\n",
      "doc docs accessibility\n",
      "doc docs browser bug\n",
      "doc docs build\n",
      "doc docs feature\n",
      "369 docs js\n",
      "369 docs examples\n",
      "369 docs css\n",
      "369 docs accessibility\n",
      "369 docs browser bug\n",
      "369 docs build\n",
      "369 docs feature\n",
      "access accessibility js\n",
      "access accessibility examples\n",
      "access accessibility css\n",
      "access accessibility docs\n",
      "access accessibility browser bug\n",
      "access accessibility build\n",
      "access accessibility feature\n",
      "36 accessibility js\n",
      "36 accessibility examples\n",
      "36 accessibility css\n",
      "36 accessibility docs\n",
      "36 accessibility browser bug\n",
      "36 accessibility build\n",
      "36 accessibility feature\n",
      "chrome browser bug js\n",
      "chrome browser bug examples\n",
      "chrome browser bug css\n",
      "chrome browser bug docs\n",
      "chrome browser bug accessibility\n",
      "chrome browser bug build\n",
      "chrome browser bug feature\n",
      "41 browser bug js\n",
      "41 browser bug examples\n",
      "41 browser bug css\n",
      "41 browser bug docs\n",
      "41 browser bug accessibility\n",
      "41 browser bug build\n",
      "41 browser bug feature\n",
      "grunt build js\n",
      "grunt build examples\n",
      "grunt build css\n",
      "grunt build docs\n",
      "grunt build accessibility\n",
      "grunt build browser bug\n",
      "grunt build feature\n",
      "33 build js\n",
      "33 build examples\n",
      "33 build css\n",
      "33 build docs\n",
      "33 build accessibility\n",
      "33 build browser bug\n",
      "33 build feature\n",
      "add feature js\n",
      "add feature examples\n",
      "add feature css\n",
      "add feature docs\n",
      "add feature accessibility\n",
      "add feature browser bug\n",
      "add feature build\n",
      "242 feature js\n",
      "242 feature examples\n",
      "242 feature css\n",
      "242 feature docs\n",
      "242 feature accessibility\n",
      "242 feature browser bug\n",
      "242 feature build\n"
     ]
    }
   ],
   "source": [
    "xn = [2697, 135, 5390, 1221, 131, 176, 162, 1206]\n",
    "for x in range(c):\n",
    "    for y in ct[x][0:5][0]:\n",
    "        for z in range(c):\n",
    "            if z == x:\n",
    "                continue\n",
    "            if y not in ct[z][0:50][0]:\n",
    "                print(y, classes[x], classes[z])"
   ]
  },
  {
   "cell_type": "code",
   "execution_count": 8,
   "metadata": {},
   "outputs": [
    {
     "name": "stdout",
     "output_type": "stream",
     "text": [
      "('modal', 593) ('use', 1527)\n"
     ]
    }
   ],
   "source": [
    "print(ct[0][0],cd[0][1])"
   ]
  },
  {
   "cell_type": "code",
   "execution_count": null,
   "metadata": {
    "collapsed": true
   },
   "outputs": [],
   "source": []
  }
 ],
 "metadata": {
  "kernelspec": {
   "display_name": "Python 3",
   "language": "python",
   "name": "python3"
  },
  "language_info": {
   "codemirror_mode": {
    "name": "ipython",
    "version": 3
   },
   "file_extension": ".py",
   "mimetype": "text/x-python",
   "name": "python",
   "nbconvert_exporter": "python",
   "pygments_lexer": "ipython3",
   "version": "3.6.3"
  }
 },
 "nbformat": 4,
 "nbformat_minor": 2
}
